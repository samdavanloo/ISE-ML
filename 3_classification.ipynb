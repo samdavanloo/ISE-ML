{
 "cells": [
  {
   "cell_type": "markdown",
   "metadata": {},
   "source": [
    "[![Open In Colab](https://colab.research.google.com/assets/colab-badge.svg)](https://colab.research.google.com/github/samdavanloo/ISE-ML/blob/main/3_classification.ipynb)"
   ]
  },
  {
   "cell_type": "markdown",
   "metadata": {},
   "source": [
    "# Classification\n",
    "## Logistic regression\n",
    "Logistic regression is a classification model that is very easy to implement but performs very well on linearly separable classes. It is one of the most widely used algorithms for classification in industry. Logistic regression is a linear model for binary classification that can be extended to multiclass classification.\n",
    "\n",
    "The \"odds ratio\" of an event (class label $y=1$) is defined as $p/(1-p)$ where $p$ is the probability of the event.\n",
    "\n",
    "The \"logit function\" is then the natural logarithm of the odds ration:\n",
    "$$\n",
    "logit(p) = \\log\\frac{p}{1-p}\n",
    "$$\n",
    "The logit function takes as input values in the range of 0 to 1 and transforms them to values over the entire real-number range, which can then be modeled by a linear function:\n",
    "$$\n",
    "logit(p(y=1|\\mathbf{x})) = w_0+w_1x_1+\\cdots+w_px_p=w_0+\\mathbf{w}^T\\mathbf{x}.\n",
    "$$\n",
    "Note taht we are actually interested in predicting the probability that a certain sample belongs to a particular class, which is the inverse form of the logit function. It is also called logistic \"sigmoid function\" and defined as\n",
    "$$\n",
    "\\phi(z) = \\frac{1}{1+e^{-z}},\n",
    "$$\n",
    "where, here, $z=w_0+\\mathbf{w}^T\\mathbf{x}$. \n",
    "\n",
    "Given some \"threshold\", the predicted probability can simply be converted into a binary outcome via the function:\n",
    "$$\n",
    "\\hat{y} =\n",
    "\\begin{cases}\n",
    "1 \\quad \\text{if}\\ \\phi(z)\\geq \\text{threshold} \\\\\n",
    "0 \\quad \\text{otherwise}\n",
    "\\end{cases}\n",
    "$$\n"
   ]
  },
  {
   "cell_type": "markdown",
   "metadata": {},
   "source": [
    "### Learning (estimating) the parameters\n",
    "Parameters of the logistic regression model are generally estimated by maximizing the \"likelihood\" function. Assuming that the individual samples in our dataset are independent of one another, the likelihood function can be written as\n",
    "$$\n",
    "L(\\mathbf{w},w_0) = \\Pi_{i=1}^n p(y_i|\\mathbf{x}_i) = \\Pi_{i=1}^n \\phi(z_i;\\mathbf{w},w_0)^{y_i} (1-\\phi(z_i;\\mathbf{w},w_0))^{1-y_i},\n",
    "$$\n",
    "or log-likelihood which has the form\n",
    "$$\n",
    "l(\\mathbf{w},w_0) = \\log L(\\mathbf{w},w_0) = \\sum_{i=1}^n \\Big(y_i\\log(\\phi(z_i;\\mathbf{w},w_0))+(1-y_i)\\log(1-\\phi(z_i;\\mathbf{w},w_0))\\Big).\n",
    "$$\n",
    "Instead of maximizing log-likelihood, it is a common practice to minimize negative log-likelihood as\n",
    "\\begin{equation}\n",
    "\\min_{\\mathbf{w}\\in \\mathbb{R}^p, w_0\\in \\mathbb{R}}\\ \\cal{L}(\\mathbf{w},w_0) \\triangleq \\sum_{i=1}^n \\Big(-y_i\\log(\\phi(z_i;\\mathbf{w},w_0))-(1-y_i)\\log(1-\\phi(z_i;\\mathbf{w},w_0))\\Big).\n",
    "%\\label{eq:logistic_loss} \\tag{1}\n",
    "\\end{equation}\n",
    "\n",
    "Note that with $n=1$ the objective function is equivalent to\n",
    "$$\n",
    "\\cal{L}(\\mathbf{w},w_0) = \n",
    "\\begin{cases}\n",
    "-\\log(\\phi(z;\\mathbf{w},w_0)) \\ \\ \\quad \\quad \\text{if} \\ \\  y=1 \\\\\n",
    "-\\log(1-\\phi(z;\\mathbf{w},w_0)) \\quad \\text{if} \\ \\ y=0.\n",
    "\\end{cases}\n",
    "$$\n",
    "Let's quickly check the optimization objective for $n=1$. "
   ]
  },
  {
   "cell_type": "code",
   "execution_count": 7,
   "metadata": {},
   "outputs": [
    {
     "data": {
      "image/png": "[encoded data removed]",
      "text/plain": [
       "<Figure size 432x288 with 1 Axes>"
      ]
     },
     "metadata": {
      "needs_background": "light"
     },
     "output_type": "display_data"
    }
   ],
   "source": [
    "import numpy as np\n",
    "import matplotlib.pyplot as plt\n",
    "def sigmoid(z):\n",
    "    return 1.0 / (1.0 + np.exp(-z))\n",
    "def cost_1(z):\n",
    "    return - np.log(sigmoid(z))\n",
    "def cost_0(z):\n",
    "    return - np.log(1 - sigmoid(z))\n",
    "z = np.arange(-10, 10, 0.1)\n",
    "phi_z = sigmoid(z)\n",
    "c1 = [cost_1(x) for x in z]\n",
    "plt.plot(phi_z, c1, label='L(w) if y=1')\n",
    "c0 = [cost_0(x) for x in z]\n",
    "plt.plot(phi_z, c0, linestyle='--', label='L(w) if y=0')\n",
    "plt.ylim(0.0, 5.1)\n",
    "plt.xlim([0, 1])\n",
    "plt.xlabel('$\\phi$(z)')\n",
    "plt.ylabel('L(w)')\n",
    "plt.legend(loc='best')\n",
    "plt.show()"
   ]
  }
 ],
 "metadata": {
  "interpreter": {
   "hash": "aee8b7b246df8f9039afb4144a1f6fd8d2ca17a180786b69acc140d282b71a49"
  },
  "kernelspec": {
   "display_name": "Python 3.9.9 64-bit",
   "language": "python",
   "name": "python3"
  },
  "language_info": {
   "codemirror_mode": {
    "name": "ipython",
    "version": 3
   },
   "file_extension": ".py",
   "mimetype": "text/x-python",
   "name": "python",
   "nbconvert_exporter": "python",
   "pygments_lexer": "ipython3",
   "version": "3.9.9"
  },
  "orig_nbformat": 4
 },
 "nbformat": 4,
 "nbformat_minor": 2
}
