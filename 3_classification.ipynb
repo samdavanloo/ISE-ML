{
 "cells": [
  {
   "cell_type": "markdown",
   "metadata": {},
   "source": [
    "[![Open In Colab](https://colab.research.google.com/assets/colab-badge.svg)](https://colab.research.google.com/github/samdavanloo/ISE-ML/blob/main/3_classification.ipynb)"
   ]
  },
  {
   "cell_type": "markdown",
   "metadata": {},
   "source": [
    "# Classification\n",
    "## Logistic regression\n",
    "Logistic regression is a classification model that is very easy to implement but performs very well on linearly separable classes. It is one of the most widely used algorithms for classification in industry. Logistic regression is a linear model for binary classification that can be extended to multiclass classification.\n",
    "\n",
    "The \"odds ratio\" of an event (class label $y=1$) is defined as $p/(1-p)$ where $p$ is the probability of the event.\n",
    "\n",
    "The \"logit function\" is then the natural logarithm of the odds ration:\n",
    "$$\n",
    "logit(p) = \\log\\frac{p}{1-p}\n",
    "$$\n",
    "The logit function takes as input values in the range of 0 to 1 and transforms them to values over the entire real-number range, which can then be modeled by a linear function:\n",
    "$$\n",
    "logit(p(y=1|\\mathbf{x})) = w_0+w_1x_1+\\cdots+w_px_p=w_0+\\mathbf{w}^T\\mathbf{x}.\n",
    "$$\n",
    "Note taht we are actually interested in predicting the probability that a certain sample belongs to a particular class, which is the inverse form of the logit function. It is also called logistic \"sigmoid function\" and defined as\n",
    "$$\n",
    "\\phi(z) = \\frac{1}{1+e^{-z}},\n",
    "$$\n",
    "where, here, $z=w_0+\\mathbf{w}^T\\mathbf{x}$. \n",
    "\n",
    "Given some \"threshold\", the predicted probability can simply be converted into a binary outcome via the function:\n",
    "$$\n",
    "\\hat{y} =\n",
    "\\begin{cases}\n",
    "1 \\quad \\text{if}\\ \\phi(z)\\geq \\text{threshold} \\\\\n",
    "0 \\quad \\text{otherwise}\n",
    "\\end{cases}\n",
    "$$\n"
   ]
  },
  {
   "cell_type": "markdown",
   "metadata": {},
   "source": [
    "### Learning (estimating) the parameters\n",
    "Parameters of the logistic regression model are generally estimated by maximizing the \"likelihood\" function. Assuming that the individual samples in our dataset are independent of one another, the likelihood function can be written as\n",
    "$$\n",
    "L(\\mathbf{w},w_0) = \\Pi_{i=1}^n p(y_i|\\mathbf{x}_i) = \\Pi_{i=1}^n \\phi(z_i;\\mathbf{w},w_0)^{y_i} (1-\\phi(z_i;\\mathbf{w},w_0))^{1-y_i},\n",
    "$$\n",
    "or log-likelihood which has the form\n",
    "$$\n",
    "l(\\mathbf{w},w_0) = \\log L(\\mathbf{w},w_0) = \\sum_{i=1}^n \\Big(y_i\\log(\\phi(z_i;\\mathbf{w},w_0))+(1-y_i)\\log(1-\\phi(z_i;\\mathbf{w},w_0))\\Big).\n",
    "$$\n",
    "Instead of maximizing log-likelihood, it is a common practice to minimize negative log-likelihood as\n",
    "\\begin{equation}\n",
    "\\min_{\\mathbf{w}\\in \\mathbb{R}^p, w_0\\in \\mathbb{R}}\\ \\cal{L}(\\mathbf{w},w_0) \\triangleq \\sum_{i=1}^n \\Big(-y_i\\log(\\phi(z_i;\\mathbf{w},w_0))-(1-y_i)\\log(1-\\phi(z_i;\\mathbf{w},w_0))\\Big).\n",
    "%\\label{eq:logistic_loss} \\tag{1}\n",
    "\\end{equation}\n",
    "\n",
    "Note that with $n=1$ the objective function is equivalent to\n",
    "$$\n",
    "\\cal{L}(\\mathbf{w},w_0) = \n",
    "\\begin{cases}\n",
    "-\\log(\\phi(z;\\mathbf{w},w_0)) \\ \\ \\quad \\quad \\text{if} \\ \\  y=1 \\\\\n",
    "-\\log(1-\\phi(z;\\mathbf{w},w_0)) \\quad \\text{if} \\ \\ y=0.\n",
    "\\end{cases}\n",
    "$$\n",
    "Let's quickly check the optimization objective for $n=1$. "
   ]
  },
  {
   "cell_type": "code",
   "execution_count": 12,
   "metadata": {},
   "outputs": [
    {
     "data": {
      "image/png": "[encoded data removed]",
      "text/plain": [
       "<Figure size 432x288 with 1 Axes>"
      ]
     },
     "metadata": {
      "needs_background": "light"
     },
     "output_type": "display_data"
    }
   ],
   "source": [
    "import numpy as np\n",
    "import matplotlib.pyplot as plt\n",
    "def sigmoid(z):\n",
    "    return 1.0 / (1.0 + np.exp(-z))\n",
    "def cost_1(z):\n",
    "    return - np.log(sigmoid(z))\n",
    "def cost_0(z):\n",
    "    return - np.log(1 - sigmoid(z))\n",
    "z = np.arange(-10, 10, 0.1)\n",
    "phi_z = sigmoid(z)\n",
    "c1 = [cost_1(x) for x in z]\n",
    "plt.plot(phi_z, c1, label='$\\mathcal{L}(w)$ if y=1')\n",
    "c0 = [cost_0(x) for x in z]\n",
    "plt.plot(phi_z, c0, linestyle='--', label='$\\mathcal{L}(w)$ if y=0')\n",
    "plt.ylim(0.0, 5.1)\n",
    "plt.xlim([0, 1])\n",
    "plt.xlabel('$\\phi$(z)')\n",
    "plt.ylabel('$\\mathcal{L}(w)$')\n",
    "plt.legend(loc='best')\n",
    "plt.show()"
   ]
  },
  {
   "cell_type": "markdown",
   "metadata": {},
   "source": [
    "Note that $\\phi(z)$ is the probability of class 1. We can see that the cost approaches 0 if we correctly predict the class."
   ]
  },
  {
   "cell_type": "code",
   "execution_count": null,
   "metadata": {},
   "outputs": [],
   "source": [
    "class LogisticRegressionGD(object):\n",
    "\n",
    "    \"\"\"\n",
    "    Logistic Regression Classifier using gradient descent.\n",
    "\n",
    "    Parameters\n",
    "    ------------\n",
    "    eta : float\n",
    "    Learning rate (between 0.0 and 1.0)\n",
    "    n_iter : int   Passes over the training dataset.\n",
    "    random_state : int    Random number generator seed for random weight initialization.\n",
    "\n",
    "    Attributes\n",
    "    -----------\n",
    "    w_ : 1d-array    Weights after fitting.\n",
    "    cost_ : list    Sum-of-squares cost function value in each epoch.\n",
    "\n",
    "    \"\"\"\n",
    "\n",
    "    def __init__(self, eta=0.05, n_iter=100, random_state=1):\n",
    "        self.eta = eta\n",
    "        self.n_iter = n_iter\n",
    "        self.random_state = random_state\n",
    "\n",
    "    def fit(self, X, y):\n",
    "        \"\"\" Fit training data.\n",
    "        Parameters\n",
    "        ----------\n",
    "        X : {array-like}, shape = [n_samples, n_features]\n",
    "        Training vectors, where n_samples is the number of\n",
    "        samples and\n",
    "        n_features is the number of features.\n",
    "        y : array-like, shape = [n_samples]\n",
    "        Target values.\n",
    "        Returns\n",
    "        -------\n",
    "        self : object\n",
    "        \"\"\"\n",
    "\n",
    "        rgen = np.random.RandomState(self.random_state)\n",
    "        self.w_ = rgen.normal(loc=0.0, scale=0.01,\n",
    "        size=1 + X.shape[1])\n",
    "        self.cost_ = []\n",
    "\n",
    "        for i in range(self.n_iter):\n",
    "            net_input = self.net_input(X)\n",
    "            output = self.activation(net_input)\n",
    "            errors = (y - output)\n",
    "            self.w_[1:] += self.eta * X.T.dot(errors)\n",
    "            self.w_[0] += self.eta * errors.sum()\n",
    "            # note that we compute the logistic `cost` now\n",
    "            # instead of the sum of squared errors cost\n",
    "            cost = (-y.dot(np.log(output)) -\n",
    "            ((1 - y).dot(np.log(1 - output))))\n",
    "            self.cost_.append(cost)\n",
    "        \n",
    "        return self\n",
    "\n",
    "    def net_input(self, X):\n",
    "        \"\"\"Calculate net input\"\"\"\n",
    "        return np.dot(X, self.w_[1:]) + self.w_[0]\n",
    "\n",
    "    def activation(self, z):\n",
    "            \"\"\"Compute logistic sigmoid activation\"\"\"\n",
    "            return 1. / (1. + np.exp(-np.clip(z, -250, 250)))\n",
    "\n",
    "    def predict(self, X):\n",
    "            \"\"\"Return class label after unit step\"\"\"\n",
    "            return np.where(self.net_input(X) >= 0.0, 1, 0)\n",
    "            # equivalent to:\n",
    "            # return np.where(self.activation(self.net_input(X))\n",
    "            # >= 0.5, 1, 0)\n",
    "\n"
   ]
  }
 ],
 "metadata": {
  "interpreter": {
   "hash": "aee8b7b246df8f9039afb4144a1f6fd8d2ca17a180786b69acc140d282b71a49"
  },
  "kernelspec": {
   "display_name": "Python 3.9.9 64-bit",
   "language": "python",
   "name": "python3"
  },
  "language_info": {
   "codemirror_mode": {
    "name": "ipython",
    "version": 3
   },
   "file_extension": ".py",
   "mimetype": "text/x-python",
   "name": "python",
   "nbconvert_exporter": "python",
   "pygments_lexer": "ipython3",
   "version": "3.9.9"
  },
  "orig_nbformat": 4
 },
 "nbformat": 4,
 "nbformat_minor": 2
}
