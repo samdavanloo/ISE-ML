{
 "cells": [
  {
   "cell_type": "markdown",
   "metadata": {},
   "source": [
    "# Classification\n",
    "## Logistic regression\n",
    "Logistic regression is a classification model that is very easy to implement but performs very well on linearly separable classes. It is one of the most widely used algorithms for classification in industry. Logistic regression is a linear model for binary classification that can be extended to multiclass classification.\n",
    "\n",
    "The \"odds ratio\" of an event (class label $y=1$) is defined as $p/(1-p)$ where $p$ is the probability of the event.\n",
    "\n",
    "The \"logit function\" is then the natural logarithm of the odds ration:\n",
    "$$\n",
    "logit(p) = \\log\\frac{p}{1-p}\n",
    "$$\n",
    "The logit function takes as input values in the range of 0 to 1 and transforms them to values over the entire real-number range, which can then be modeled by a linear function:\n",
    "$$\n",
    "logit(p(y=1|\\mathbf{x})) = w_0+w_1x_1+\\cdots+w_px_p=w_0+\\mathbf{w}^T\\mathbf{x}.\n",
    "$$\n",
    "Note taht we are actually interested in predicting the probability that a certain sample belongs to a particular class, which is the inverse form of the logit function. It is also called logistic \"sigmoid function\" and defined as\n",
    "$$\n",
    "\\phi(z) = \\frac{1}{1+e^{-z}},\n",
    "$$\n",
    "where, here, $z=w_0+\\mathbf{w}^T\\mathbf{x}$. \n",
    "\n",
    "Given some \"threshold\", the predicted probability can simply be converted into a binary outcome via the function:\n",
    "$$\n",
    "\\hat{y} =\n",
    "\\begin{cases}\n",
    "1 \\quad \\text{if}\\ \\phi(z)\\geq \\text{threshold} \\\\\n",
    "0 \\quad \\text{otherwise}\n",
    "\\end{cases}\n",
    "$$\n"
   ]
  },
  {
   "cell_type": "markdown",
   "metadata": {},
   "source": []
  }
 ],
 "metadata": {
  "language_info": {
   "name": "python"
  },
  "orig_nbformat": 4
 },
 "nbformat": 4,
 "nbformat_minor": 2
}
